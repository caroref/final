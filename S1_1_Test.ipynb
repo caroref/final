{
  "nbformat": 4,
  "nbformat_minor": 0,
  "metadata": {
    "colab": {
      "name": "S1.1 Test.ipynb",
      "version": "0.3.2",
      "provenance": [],
      "collapsed_sections": [],
      "include_colab_link": true
    },
    "kernelspec": {
      "name": "python3",
      "display_name": "Python 3"
    },
    "accelerator": "GPU"
  },
  "cells": [
    {
      "cell_type": "markdown",
      "metadata": {
        "id": "view-in-github",
        "colab_type": "text"
      },
      "source": [
        "<a href=\"https://colab.research.google.com/github/caroref/final/blob/master/S1_1_Test.ipynb\" target=\"_parent\"><img src=\"https://colab.research.google.com/assets/colab-badge.svg\" alt=\"Open In Colab\"/></a>"
      ]
    },
    {
      "cell_type": "code",
      "metadata": {
        "id": "A2YouEqhz_JR",
        "colab_type": "code",
        "outputId": "a2e9c481-29d1-4c54-e0b3-be843af55afc",
        "colab": {
          "base_uri": "https://localhost:8080/",
          "height": 70
        }
      },
      "source": [
        "from __future__ import absolute_import, division, print_function, unicode_literals\n",
        "\n",
        "import os\n",
        "import random\n",
        "import shutil\n",
        "\n",
        "import tensorflow as tf\n",
        "import tensorflow_hub as hub\n",
        "print(\"TensorFlow version is \", tf.__version__)\n",
        "\n",
        "from tensorflow import keras\n",
        "from tensorflow.keras import layers\n",
        "\n",
        "import numpy as np\n",
        "\n",
        "import matplotlib.pyplot as plt\n",
        "import matplotlib.image as mpimg"
      ],
      "execution_count": 1,
      "outputs": [
        {
          "output_type": "stream",
          "text": [
            "WARNING: Logging before flag parsing goes to stderr.\n",
            "W0604 09:28:39.720344 140485924284288 __init__.py:56] Some hub symbols are not available because TensorFlow version is less than 1.14\n"
          ],
          "name": "stderr"
        },
        {
          "output_type": "stream",
          "text": [
            "TensorFlow version is  1.13.1\n"
          ],
          "name": "stdout"
        }
      ]
    },
    {
      "cell_type": "code",
      "metadata": {
        "id": "KfSIWF1q0Csv",
        "colab_type": "code",
        "outputId": "f6f6d97e-47db-4d99-f844-b5a580388ea2",
        "colab": {
          "base_uri": "https://localhost:8080/",
          "height": 232
        }
      },
      "source": [
        "# Allow Colab to access drive\n",
        "!apt-get install -y -qq software-properties-common python-software-properties module-init-tools\n",
        "!add-apt-repository -y ppa:alessandro-strada/ppa 2>&1 > /dev/null\n",
        "!apt-get update -qq 2>&1 > /dev/null\n",
        "!apt-get -y install -qq google-drive-ocamlfuse fuse\n",
        "from google.colab import auth\n",
        "auth.authenticate_user()\n",
        "from oauth2client.client import GoogleCredentials\n",
        "creds = GoogleCredentials.get_application_default()\n",
        "import getpass\n",
        "!google-drive-ocamlfuse -headless -id={creds.client_id} -secret={creds.client_secret} < /dev/null 2>&1 | grep URL\n",
        "vcode = getpass.getpass()\n",
        "!echo {vcode} | google-drive-ocamlfuse -headless -id={creds.client_id} -secret={creds.client_secret}\n",
        "\n",
        "#linking Colab to use drive as if local\n",
        "!mkdir -p drive\n",
        "!google-drive-ocamlfuse drive\n"
      ],
      "execution_count": 2,
      "outputs": [
        {
          "output_type": "stream",
          "text": [
            "E: Package 'python-software-properties' has no installation candidate\n",
            "Selecting previously unselected package google-drive-ocamlfuse.\n",
            "(Reading database ... 130912 files and directories currently installed.)\n",
            "Preparing to unpack .../google-drive-ocamlfuse_0.7.3-0ubuntu3~ubuntu18.04.1_amd64.deb ...\n",
            "Unpacking google-drive-ocamlfuse (0.7.3-0ubuntu3~ubuntu18.04.1) ...\n",
            "Setting up google-drive-ocamlfuse (0.7.3-0ubuntu3~ubuntu18.04.1) ...\n",
            "Processing triggers for man-db (2.8.3-2ubuntu0.1) ...\n",
            "Please, open the following URL in a web browser: https://accounts.google.com/o/oauth2/auth?client_id=32555940559.apps.googleusercontent.com&redirect_uri=urn%3Aietf%3Awg%3Aoauth%3A2.0%3Aoob&scope=https%3A%2F%2Fwww.googleapis.com%2Fauth%2Fdrive&response_type=code&access_type=offline&approval_prompt=force\n",
            "··········\n",
            "Please, open the following URL in a web browser: https://accounts.google.com/o/oauth2/auth?client_id=32555940559.apps.googleusercontent.com&redirect_uri=urn%3Aietf%3Awg%3Aoauth%3A2.0%3Aoob&scope=https%3A%2F%2Fwww.googleapis.com%2Fauth%2Fdrive&response_type=code&access_type=offline&approval_prompt=force\n",
            "Please enter the verification code: Access token retrieved correctly.\n"
          ],
          "name": "stdout"
        }
      ]
    },
    {
      "cell_type": "code",
      "metadata": {
        "id": "0MY-mhUE1VbV",
        "colab_type": "code",
        "colab": {}
      },
      "source": [
        "base_dir = 'drive/Colab/EV/Base/'\n",
        "like = os.path.join(base_dir, 'Like')\n",
        "dislike = os.path.join(base_dir, 'Dislike')\n",
        "\n",
        "# subdirectories for train/test/valid splits\n",
        "trn_dir = 'drive/Colab/EV/S1/Train/'\n",
        "tst_dir = 'drive/Colab/EV/S1/Test/'\n",
        "\n",
        "trn_like = os.path.join(trn_dir, 'Like')\n",
        "tst_like = os.path.join(tst_dir, 'Like')\n",
        "\n",
        "trn_disl = os.path.join(trn_dir, 'Dislike')\n",
        "tst_disl = os.path.join(tst_dir, 'Dislike')"
      ],
      "execution_count": 0,
      "outputs": []
    },
    {
      "cell_type": "code",
      "metadata": {
        "id": "HMY205oWzug7",
        "colab_type": "code",
        "colab": {}
      },
      "source": [
        "# keras library import  for Saving and loading model and weights\n",
        "from tensorflow.keras.models import model_from_json\n",
        "from tensorflow.keras.models import load_model"
      ],
      "execution_count": 0,
      "outputs": []
    },
    {
      "cell_type": "code",
      "metadata": {
        "id": "pVGVQqgmzxla",
        "colab_type": "code",
        "outputId": "f5485d13-1195-4761-adc5-6444803df383",
        "colab": {
          "base_uri": "https://localhost:8080/",
          "height": 304
        }
      },
      "source": [
        "# load json and create model\n",
        "json_file = open('drive/Colab Notebooks/smodel/s1.1_model_num.json', 'r')\n",
        "\n",
        "loaded_model_json = json_file.read()\n",
        "json_file.close()\n",
        "loaded_model = model_from_json(loaded_model_json)\n",
        "\n",
        "# load weights into new model\n",
        "loaded_model.load_weights(\"drive/Colab Notebooks/smodel/s1.1_model_num.h5\")\n",
        "print(\"Loaded model from drive\")\n",
        "\n",
        "loaded_model=load_model('drive/Colab Notebooks/smodel/s1.1_model_num.hdf5')\n"
      ],
      "execution_count": 5,
      "outputs": [
        {
          "output_type": "stream",
          "text": [
            "WARNING:tensorflow:From /usr/local/lib/python3.6/dist-packages/tensorflow/python/ops/resource_variable_ops.py:435: colocate_with (from tensorflow.python.framework.ops) is deprecated and will be removed in a future version.\n",
            "Instructions for updating:\n",
            "Colocations handled automatically by placer.\n"
          ],
          "name": "stdout"
        },
        {
          "output_type": "stream",
          "text": [
            "W0604 09:29:48.680505 140485924284288 deprecation.py:323] From /usr/local/lib/python3.6/dist-packages/tensorflow/python/ops/resource_variable_ops.py:435: colocate_with (from tensorflow.python.framework.ops) is deprecated and will be removed in a future version.\n",
            "Instructions for updating:\n",
            "Colocations handled automatically by placer.\n"
          ],
          "name": "stderr"
        },
        {
          "output_type": "stream",
          "text": [
            "Loaded model from drive\n",
            "WARNING:tensorflow:From /usr/local/lib/python3.6/dist-packages/tensorflow/python/ops/math_ops.py:3066: to_int32 (from tensorflow.python.ops.math_ops) is deprecated and will be removed in a future version.\n",
            "Instructions for updating:\n",
            "Use tf.cast instead.\n"
          ],
          "name": "stdout"
        },
        {
          "output_type": "stream",
          "text": [
            "W0604 09:30:29.191646 140485924284288 deprecation.py:323] From /usr/local/lib/python3.6/dist-packages/tensorflow/python/ops/math_ops.py:3066: to_int32 (from tensorflow.python.ops.math_ops) is deprecated and will be removed in a future version.\n",
            "Instructions for updating:\n",
            "Use tf.cast instead.\n"
          ],
          "name": "stderr"
        },
        {
          "output_type": "stream",
          "text": [
            "WARNING:tensorflow:Error in loading the saved optimizer state. As a result, your model is starting with a freshly initialized optimizer.\n"
          ],
          "name": "stdout"
        },
        {
          "output_type": "stream",
          "text": [
            "W0604 09:30:36.539854 140485924284288 saving.py:287] Error in loading the saved optimizer state. As a result, your model is starting with a freshly initialized optimizer.\n"
          ],
          "name": "stderr"
        }
      ]
    },
    {
      "cell_type": "code",
      "metadata": {
        "id": "SMbY2IHWz2BO",
        "colab_type": "code",
        "outputId": "e3b2a7c9-a4d2-45be-dd23-0159e0b69d1f",
        "colab": {
          "base_uri": "https://localhost:8080/",
          "height": 248
        }
      },
      "source": [
        "#model was not compiled when saved so need to compile?\n",
        "\n",
        "loaded_model.compile(optimizer=tf.keras.optimizers.RMSprop(lr=0.0001),\n",
        "              loss='binary_crossentropy',\n",
        "              metrics=['accuracy'])\n",
        "\n",
        "loaded_model.summary()"
      ],
      "execution_count": 6,
      "outputs": [
        {
          "output_type": "stream",
          "text": [
            "_________________________________________________________________\n",
            "Layer (type)                 Output Shape              Param #   \n",
            "=================================================================\n",
            "inception_v3 (Model)         (None, 18, 18, 2048)      21802784  \n",
            "_________________________________________________________________\n",
            "global_average_pooling2d (Gl (None, 2048)              0         \n",
            "_________________________________________________________________\n",
            "dense (Dense)                (None, 1)                 2049      \n",
            "=================================================================\n",
            "Total params: 21,804,833\n",
            "Trainable params: 21,770,401\n",
            "Non-trainable params: 34,432\n",
            "_________________________________________________________________\n"
          ],
          "name": "stdout"
        }
      ]
    },
    {
      "cell_type": "code",
      "metadata": {
        "id": "oeYGdiPYz3AF",
        "colab_type": "code",
        "outputId": "4c19054c-11f3-4bbc-dd46-93994b27a9af",
        "colab": {
          "base_uri": "https://localhost:8080/",
          "height": 35
        }
      },
      "source": [
        "image_size = 640\n",
        "batch_size = 1\n",
        "\n",
        "test_datagen = keras.preprocessing.image.ImageDataGenerator(\n",
        "                rescale=1./255)\n",
        "\n",
        "test_generator = test_datagen.flow_from_directory(\n",
        "                tst_dir,\n",
        "                target_size=(image_size, image_size),\n",
        "                batch_size= batch_size,\n",
        "                class_mode='binary')\n",
        "\n",
        "filenames = test_generator.filenames\n",
        "nb_samples = len(filenames)\n"
      ],
      "execution_count": 7,
      "outputs": [
        {
          "output_type": "stream",
          "text": [
            "Found 100 images belonging to 2 classes.\n"
          ],
          "name": "stdout"
        }
      ]
    },
    {
      "cell_type": "code",
      "metadata": {
        "id": "KRI3OeD5z4CS",
        "colab_type": "code",
        "outputId": "02fc271b-ec55-43d6-a09c-e7debc702f02",
        "colab": {
          "base_uri": "https://localhost:8080/",
          "height": 35
        }
      },
      "source": [
        "# Test accuracy 71%\n",
        " _, accuracy = loaded_model.evaluate_generator(generator=test_generator)\n",
        " print('Accuracy on test set: {}%'.format(round(accuracy, 3)*100))"
      ],
      "execution_count": 8,
      "outputs": [
        {
          "output_type": "stream",
          "text": [
            "Accuracy on test set: 69.9999988079071%\n"
          ],
          "name": "stdout"
        }
      ]
    },
    {
      "cell_type": "code",
      "metadata": {
        "id": "qKvj8IwFz5JV",
        "colab_type": "code",
        "colab": {}
      },
      "source": [
        "true_classes = test_generator.classes\n",
        "class_labels = list(test_generator.class_indices.keys())"
      ],
      "execution_count": 0,
      "outputs": []
    },
    {
      "cell_type": "code",
      "metadata": {
        "id": "HhzbLFTC6s9Y",
        "colab_type": "code",
        "colab": {}
      },
      "source": [
        "test_steps=test_generator.n // batch_size\n",
        "test_generator.reset()\n",
        "predict = loaded_model.predict_generator(test_generator, steps = test_steps)\n",
        "predicted_classes = np.where(predict>0.5, 1, 0)"
      ],
      "execution_count": 0,
      "outputs": []
    },
    {
      "cell_type": "code",
      "metadata": {
        "id": "Ezl2rBCTz6it",
        "colab_type": "code",
        "colab": {}
      },
      "source": [
        "import sklearn\n",
        "from sklearn.metrics import confusion_matrix\n",
        "import seaborn as sns"
      ],
      "execution_count": 0,
      "outputs": []
    },
    {
      "cell_type": "code",
      "metadata": {
        "id": "N97CBvESz7UQ",
        "colab_type": "code",
        "outputId": "190eb748-c506-4355-9daf-e1ddac06a4e7",
        "colab": {
          "base_uri": "https://localhost:8080/",
          "height": 620
        }
      },
      "source": [
        "print('Confusion Matrix')\n",
        "cm = sklearn.metrics.confusion_matrix(true_classes, predicted_classes)\n",
        "print(cm)\n",
        "\n",
        "#plot\n",
        "fig = plt.figure()\n",
        "ax = fig.add_subplot(111)\n",
        "cax = ax.matshow(cm, cmap=plt.cm.Blues)\n",
        "plt.title('Confusion Matrix')\n",
        "fig.colorbar(cax)\n",
        "ax.set_xticklabels([''] + class_labels)\n",
        "ax.set_yticklabels([''] + class_labels)\n",
        "plt.xlabel('Predicted')\n",
        "plt.ylabel('True')\n",
        "plt.show()\n",
        "\n",
        "#using seaborn\n",
        "ax= plt.subplot()\n",
        "sns.heatmap(cm, annot=True, ax = ax, cmap=\"BuPu\", square=True);\n",
        "\n",
        "# labels, title and ticks\n",
        "ax.set_xlabel('Predicted Labels');\n",
        "ax.set_ylabel('True Labels'); \n",
        "ax.set_title('Confusion Matrix'); \n",
        "ax.xaxis.set_ticklabels(class_labels + class_labels); \n",
        "ax.yaxis.set_ticklabels(class_labels + class_labels);\n"
      ],
      "execution_count": 12,
      "outputs": [
        {
          "output_type": "stream",
          "text": [
            "Confusion Matrix\n",
            "[[28 22]\n",
            " [22 28]]\n"
          ],
          "name": "stdout"
        },
        {
          "output_type": "display_data",
          "data": {
            "image/png": "[encoded data removed]",
            "text/plain": [
              "<Figure size 432x288 with 2 Axes>"
            ]
          },
          "metadata": {
            "tags": []
          }
        },
        {
          "output_type": "display_data",
          "data": {
            "image/png": "[encoded data removed]",
            "text/plain": [
              "<Figure size 432x288 with 2 Axes>"
            ]
          },
          "metadata": {
            "tags": []
          }
        }
      ]
    },
    {
      "cell_type": "code",
      "metadata": {
        "id": "8-emBVfAz8vn",
        "colab_type": "code",
        "outputId": "2a88903e-74c8-45e3-bc54-a35b5c0e9c96",
        "colab": {
          "base_uri": "https://localhost:8080/",
          "height": 195
        }
      },
      "source": [
        "print('Classification Report') \n",
        "print(sklearn.metrics.classification_report(true_classes, predicted_classes, target_names=class_labels))"
      ],
      "execution_count": 13,
      "outputs": [
        {
          "output_type": "stream",
          "text": [
            "Classification Report\n",
            "              precision    recall  f1-score   support\n",
            "\n",
            "     Dislike       0.56      0.56      0.56        50\n",
            "        Like       0.56      0.56      0.56        50\n",
            "\n",
            "    accuracy                           0.56       100\n",
            "   macro avg       0.56      0.56      0.56       100\n",
            "weighted avg       0.56      0.56      0.56       100\n",
            "\n"
          ],
          "name": "stdout"
        }
      ]
    },
    {
      "cell_type": "code",
      "metadata": {
        "id": "8Oi1Lsst4hvE",
        "colab_type": "code",
        "colab": {}
      },
      "source": [
        "#make both true_classes and predicted_classes into lists\n",
        "t_classes = list(true_classes)\n",
        "\n",
        "p_classes = []\n",
        "for sublist in predicted_classes:\n",
        "    for item in sublist:\n",
        "        p_classes.append(item)"
      ],
      "execution_count": 0,
      "outputs": []
    },
    {
      "cell_type": "code",
      "metadata": {
        "id": "TpuQvqTE6I-y",
        "colab_type": "code",
        "outputId": "2bcd83fd-5efa-4dc1-b34d-0d54cb5f3c5a",
        "colab": {
          "base_uri": "https://localhost:8080/",
          "height": 90
        }
      },
      "source": [
        "print(p_classes)\n",
        "print(t_classes)\n",
        "print(filenames)\n",
        "\n",
        "\n",
        "combined = [p_classes, t_classes, filenames]\n",
        "#might need to transpose"
      ],
      "execution_count": 15,
      "outputs": [
        {
          "output_type": "stream",
          "text": [
            "[1, 0, 0, 1, 0, 0, 1, 0, 0, 1, 0, 0, 0, 0, 0, 1, 0, 1, 1, 1, 1, 1, 1, 0, 1, 1, 1, 1, 0, 0, 1, 0, 0, 0, 0, 0, 1, 0, 1, 1, 0, 1, 0, 0, 0, 1, 1, 0, 0, 0, 1, 0, 1, 0, 1, 1, 1, 0, 0, 0, 1, 1, 0, 1, 1, 1, 1, 0, 1, 0, 1, 0, 0, 0, 0, 0, 0, 1, 0, 1, 0, 1, 1, 0, 1, 1, 1, 0, 0, 1, 0, 0, 1, 0, 1, 1, 1, 1, 1, 1]\n",
            "[0, 0, 0, 0, 0, 0, 0, 0, 0, 0, 0, 0, 0, 0, 0, 0, 0, 0, 0, 0, 0, 0, 0, 0, 0, 0, 0, 0, 0, 0, 0, 0, 0, 0, 0, 0, 0, 0, 0, 0, 0, 0, 0, 0, 0, 0, 0, 0, 0, 0, 1, 1, 1, 1, 1, 1, 1, 1, 1, 1, 1, 1, 1, 1, 1, 1, 1, 1, 1, 1, 1, 1, 1, 1, 1, 1, 1, 1, 1, 1, 1, 1, 1, 1, 1, 1, 1, 1, 1, 1, 1, 1, 1, 1, 1, 1, 1, 1, 1, 1]\n",
            "['Dislike/Dislike_1.jpg', 'Dislike/Dislike_10.jpg', 'Dislike/Dislike_11.jpg', 'Dislike/Dislike_12.jpg', 'Dislike/Dislike_13.jpg', 'Dislike/Dislike_14.jpg', 'Dislike/Dislike_15.jpg', 'Dislike/Dislike_16.jpg', 'Dislike/Dislike_17.jpg', 'Dislike/Dislike_18.jpg', 'Dislike/Dislike_19.jpg', 'Dislike/Dislike_2.jpg', 'Dislike/Dislike_20.jpg', 'Dislike/Dislike_21.jpg', 'Dislike/Dislike_22.jpg', 'Dislike/Dislike_23.jpg', 'Dislike/Dislike_24.jpg', 'Dislike/Dislike_25.jpg', 'Dislike/Dislike_26.jpg', 'Dislike/Dislike_27.jpg', 'Dislike/Dislike_28.jpg', 'Dislike/Dislike_29.jpg', 'Dislike/Dislike_3.jpg', 'Dislike/Dislike_30.jpg', 'Dislike/Dislike_31.jpg', 'Dislike/Dislike_32.jpg', 'Dislike/Dislike_33.jpg', 'Dislike/Dislike_34.jpg', 'Dislike/Dislike_35.jpg', 'Dislike/Dislike_36.jpg', 'Dislike/Dislike_37.jpg', 'Dislike/Dislike_38.jpg', 'Dislike/Dislike_39.jpg', 'Dislike/Dislike_4.jpg', 'Dislike/Dislike_40.jpg', 'Dislike/Dislike_41.jpg', 'Dislike/Dislike_42.jpg', 'Dislike/Dislike_43.jpg', 'Dislike/Dislike_44.jpg', 'Dislike/Dislike_45.jpg', 'Dislike/Dislike_46.jpg', 'Dislike/Dislike_47.jpg', 'Dislike/Dislike_48.jpg', 'Dislike/Dislike_49.jpg', 'Dislike/Dislike_5.jpg', 'Dislike/Dislike_50.jpg', 'Dislike/Dislike_6.jpg', 'Dislike/Dislike_7.jpg', 'Dislike/Dislike_8.jpg', 'Dislike/Dislike_9.jpg', 'Like/Like_1.jpg', 'Like/Like_10.jpg', 'Like/Like_11.jpg', 'Like/Like_12.jpg', 'Like/Like_13.jpg', 'Like/Like_14.jpg', 'Like/Like_15.jpg', 'Like/Like_16.jpg', 'Like/Like_17.jpg', 'Like/Like_18.jpg', 'Like/Like_19.jpg', 'Like/Like_2.jpg', 'Like/Like_20.jpg', 'Like/Like_21.jpg', 'Like/Like_22.jpg', 'Like/Like_23.jpg', 'Like/Like_24.jpg', 'Like/Like_25.jpg', 'Like/Like_26.jpg', 'Like/Like_27.jpg', 'Like/Like_28.jpg', 'Like/Like_29.jpg', 'Like/Like_3.jpg', 'Like/Like_30.jpg', 'Like/Like_31.jpg', 'Like/Like_32.jpg', 'Like/Like_33.jpg', 'Like/Like_34.jpg', 'Like/Like_35.jpg', 'Like/Like_36.jpg', 'Like/Like_37.jpg', 'Like/Like_38.jpg', 'Like/Like_39.jpg', 'Like/Like_4.jpg', 'Like/Like_40.jpg', 'Like/Like_41.jpg', 'Like/Like_42.jpg', 'Like/Like_43.jpg', 'Like/Like_44.jpg', 'Like/Like_45.jpg', 'Like/Like_46.jpg', 'Like/Like_47.jpg', 'Like/Like_48.jpg', 'Like/Like_49.jpg', 'Like/Like_5.jpg', 'Like/Like_50.jpg', 'Like/Like_6.jpg', 'Like/Like_7.jpg', 'Like/Like_8.jpg', 'Like/Like_9.jpg']\n"
          ],
          "name": "stdout"
        }
      ]
    },
    {
      "cell_type": "code",
      "metadata": {
        "id": "J75n-A-Zw1JC",
        "colab_type": "code",
        "colab": {}
      },
      "source": [
        ""
      ],
      "execution_count": 0,
      "outputs": []
    }
  ]
}