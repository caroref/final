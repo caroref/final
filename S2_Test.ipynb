{
  "nbformat": 4,
  "nbformat_minor": 0,
  "metadata": {
    "colab": {
      "name": "S2 Test.ipynb",
      "version": "0.3.2",
      "provenance": [],
      "collapsed_sections": [],
      "include_colab_link": true
    },
    "kernelspec": {
      "name": "python3",
      "display_name": "Python 3"
    },
    "accelerator": "GPU"
  },
  "cells": [
    {
      "cell_type": "markdown",
      "metadata": {
        "id": "view-in-github",
        "colab_type": "text"
      },
      "source": [
        "<a href=\"https://colab.research.google.com/github/caroref/final/blob/master/S2_Test.ipynb\" target=\"_parent\"><img src=\"https://colab.research.google.com/assets/colab-badge.svg\" alt=\"Open In Colab\"/></a>"
      ]
    },
    {
      "cell_type": "code",
      "metadata": {
        "id": "A2YouEqhz_JR",
        "colab_type": "code",
        "outputId": "3ee5f371-29c5-461c-c0dc-df2c6b6ba760",
        "colab": {
          "base_uri": "https://localhost:8080/",
          "height": 90
        }
      },
      "source": [
        "from __future__ import absolute_import, division, print_function, unicode_literals\n",
        "\n",
        "import os\n",
        "import random\n",
        "import shutil\n",
        "\n",
        "import tensorflow as tf\n",
        "import tensorflow_hub as hub\n",
        "print(\"TensorFlow version is \", tf.__version__)\n",
        "\n",
        "from tensorflow import keras\n",
        "from tensorflow.keras import layers\n",
        "\n",
        "import numpy as np\n",
        "\n",
        "import matplotlib.pyplot as plt\n",
        "import matplotlib.image as mpimg"
      ],
      "execution_count": 0,
      "outputs": [
        {
          "output_type": "stream",
          "text": [
            "WARNING: Logging before flag parsing goes to stderr.\n",
            "W0604 16:32:13.569718 140676100994944 __init__.py:56] Some hub symbols are not available because TensorFlow version is less than 1.14\n"
          ],
          "name": "stderr"
        },
        {
          "output_type": "stream",
          "text": [
            "TensorFlow version is  1.13.1\n"
          ],
          "name": "stdout"
        }
      ]
    },
    {
      "cell_type": "code",
      "metadata": {
        "id": "KfSIWF1q0Csv",
        "colab_type": "code",
        "outputId": "75904f50-fac8-4a8b-d787-1aa942359570",
        "colab": {
          "base_uri": "https://localhost:8080/",
          "height": 268
        }
      },
      "source": [
        "# Allow Colab to access drive\n",
        "!apt-get install -y -qq software-properties-common python-software-properties module-init-tools\n",
        "!add-apt-repository -y ppa:alessandro-strada/ppa 2>&1 > /dev/null\n",
        "!apt-get update -qq 2>&1 > /dev/null\n",
        "!apt-get -y install -qq google-drive-ocamlfuse fuse\n",
        "from google.colab import auth\n",
        "auth.authenticate_user()\n",
        "from oauth2client.client import GoogleCredentials\n",
        "creds = GoogleCredentials.get_application_default()\n",
        "import getpass\n",
        "!google-drive-ocamlfuse -headless -id={creds.client_id} -secret={creds.client_secret} < /dev/null 2>&1 | grep URL\n",
        "vcode = getpass.getpass()\n",
        "!echo {vcode} | google-drive-ocamlfuse -headless -id={creds.client_id} -secret={creds.client_secret}\n",
        "\n",
        "#linking Colab to use drive as if local\n",
        "!mkdir -p drive\n",
        "!google-drive-ocamlfuse drive\n"
      ],
      "execution_count": 0,
      "outputs": [
        {
          "output_type": "stream",
          "text": [
            "E: Package 'python-software-properties' has no installation candidate\n",
            "E: The repository 'https://cloud.r-project.org/bin/linux/ubuntu bionic-cran35/ Release' is no longer signed.\n",
            "E: The repository 'https://cloud.r-project.org/bin/linux/ubuntu bionic-cran35/ Release' is no longer signed.\n",
            "Selecting previously unselected package google-drive-ocamlfuse.\n",
            "(Reading database ... 130912 files and directories currently installed.)\n",
            "Preparing to unpack .../google-drive-ocamlfuse_0.7.3-0ubuntu3~ubuntu18.04.1_amd64.deb ...\n",
            "Unpacking google-drive-ocamlfuse (0.7.3-0ubuntu3~ubuntu18.04.1) ...\n",
            "Setting up google-drive-ocamlfuse (0.7.3-0ubuntu3~ubuntu18.04.1) ...\n",
            "Processing triggers for man-db (2.8.3-2ubuntu0.1) ...\n",
            "Please, open the following URL in a web browser: https://accounts.google.com/o/oauth2/auth?client_id=32555940559.apps.googleusercontent.com&redirect_uri=urn%3Aietf%3Awg%3Aoauth%3A2.0%3Aoob&scope=https%3A%2F%2Fwww.googleapis.com%2Fauth%2Fdrive&response_type=code&access_type=offline&approval_prompt=force\n",
            "··········\n",
            "Please, open the following URL in a web browser: https://accounts.google.com/o/oauth2/auth?client_id=32555940559.apps.googleusercontent.com&redirect_uri=urn%3Aietf%3Awg%3Aoauth%3A2.0%3Aoob&scope=https%3A%2F%2Fwww.googleapis.com%2Fauth%2Fdrive&response_type=code&access_type=offline&approval_prompt=force\n",
            "Please enter the verification code: Access token retrieved correctly.\n"
          ],
          "name": "stdout"
        }
      ]
    },
    {
      "cell_type": "code",
      "metadata": {
        "id": "0MY-mhUE1VbV",
        "colab_type": "code",
        "colab": {}
      },
      "source": [
        "base_dir = 'drive/Colab/EV/Base/'\n",
        "like = os.path.join(base_dir, 'Like')\n",
        "dislike = os.path.join(base_dir, 'Dislike')\n",
        "\n",
        "trn_dir = 'drive/Colab/EV/S2/Train/'\n",
        "tst_dir = 'drive/Colab/EV/S2/Test/'\n",
        "\n",
        "trn_like = os.path.join(trn_dir, 'Like')\n",
        "tst_like = os.path.join(tst_dir, 'Like')\n",
        "\n",
        "trn_disl = os.path.join(trn_dir, 'Dislike')\n",
        "tst_disl = os.path.join(tst_dir, 'Dislike')"
      ],
      "execution_count": 0,
      "outputs": []
    },
    {
      "cell_type": "code",
      "metadata": {
        "id": "HMY205oWzug7",
        "colab_type": "code",
        "colab": {}
      },
      "source": [
        "# keras library import  for Saving and loading model and weights\n",
        "from tensorflow.keras.models import model_from_json\n",
        "from tensorflow.keras.models import load_model"
      ],
      "execution_count": 0,
      "outputs": []
    },
    {
      "cell_type": "code",
      "metadata": {
        "id": "pVGVQqgmzxla",
        "colab_type": "code",
        "outputId": "3d749fba-dd18-495b-9b69-f25f27570b3c",
        "colab": {
          "base_uri": "https://localhost:8080/",
          "height": 304
        }
      },
      "source": [
        "# load json and create model\n",
        "json_file = open('drive/Colab Notebooks/smodel/s2_model_num.json', 'r')\n",
        "\n",
        "loaded_model_json = json_file.read()\n",
        "json_file.close()\n",
        "loaded_model = model_from_json(loaded_model_json)\n",
        "\n",
        "# load weights into new model\n",
        "loaded_model.load_weights(\"drive/Colab Notebooks/smodel/s2_model_num.h5\")\n",
        "print(\"Loaded model from drive\")\n",
        "\n",
        "loaded_model=load_model('drive/Colab Notebooks/smodel/s2_model_num.hdf5')\n"
      ],
      "execution_count": 0,
      "outputs": [
        {
          "output_type": "stream",
          "text": [
            "WARNING:tensorflow:From /usr/local/lib/python3.6/dist-packages/tensorflow/python/ops/resource_variable_ops.py:435: colocate_with (from tensorflow.python.framework.ops) is deprecated and will be removed in a future version.\n",
            "Instructions for updating:\n",
            "Colocations handled automatically by placer.\n"
          ],
          "name": "stdout"
        },
        {
          "output_type": "stream",
          "text": [
            "W0604 16:34:54.014915 140676100994944 deprecation.py:323] From /usr/local/lib/python3.6/dist-packages/tensorflow/python/ops/resource_variable_ops.py:435: colocate_with (from tensorflow.python.framework.ops) is deprecated and will be removed in a future version.\n",
            "Instructions for updating:\n",
            "Colocations handled automatically by placer.\n"
          ],
          "name": "stderr"
        },
        {
          "output_type": "stream",
          "text": [
            "Loaded model from drive\n",
            "WARNING:tensorflow:From /usr/local/lib/python3.6/dist-packages/tensorflow/python/ops/math_ops.py:3066: to_int32 (from tensorflow.python.ops.math_ops) is deprecated and will be removed in a future version.\n",
            "Instructions for updating:\n",
            "Use tf.cast instead.\n"
          ],
          "name": "stdout"
        },
        {
          "output_type": "stream",
          "text": [
            "W0604 16:35:31.296452 140676100994944 deprecation.py:323] From /usr/local/lib/python3.6/dist-packages/tensorflow/python/ops/math_ops.py:3066: to_int32 (from tensorflow.python.ops.math_ops) is deprecated and will be removed in a future version.\n",
            "Instructions for updating:\n",
            "Use tf.cast instead.\n"
          ],
          "name": "stderr"
        },
        {
          "output_type": "stream",
          "text": [
            "WARNING:tensorflow:Error in loading the saved optimizer state. As a result, your model is starting with a freshly initialized optimizer.\n"
          ],
          "name": "stdout"
        },
        {
          "output_type": "stream",
          "text": [
            "W0604 16:35:38.416936 140676100994944 saving.py:287] Error in loading the saved optimizer state. As a result, your model is starting with a freshly initialized optimizer.\n"
          ],
          "name": "stderr"
        }
      ]
    },
    {
      "cell_type": "code",
      "metadata": {
        "id": "SMbY2IHWz2BO",
        "colab_type": "code",
        "outputId": "e9950127-0fcc-45b6-8937-c67d2c8d52b7",
        "colab": {
          "base_uri": "https://localhost:8080/",
          "height": 248
        }
      },
      "source": [
        "#compile\n",
        "loaded_model.compile(optimizer=tf.keras.optimizers.RMSprop(lr=0.0001),\n",
        "              loss='binary_crossentropy',\n",
        "              metrics=['accuracy'])\n",
        "\n",
        "loaded_model.summary()"
      ],
      "execution_count": 0,
      "outputs": [
        {
          "output_type": "stream",
          "text": [
            "_________________________________________________________________\n",
            "Layer (type)                 Output Shape              Param #   \n",
            "=================================================================\n",
            "inception_v3 (Model)         (None, 18, 18, 2048)      21802784  \n",
            "_________________________________________________________________\n",
            "global_average_pooling2d (Gl (None, 2048)              0         \n",
            "_________________________________________________________________\n",
            "dense (Dense)                (None, 1)                 2049      \n",
            "=================================================================\n",
            "Total params: 21,804,833\n",
            "Trainable params: 21,770,401\n",
            "Non-trainable params: 34,432\n",
            "_________________________________________________________________\n"
          ],
          "name": "stdout"
        }
      ]
    },
    {
      "cell_type": "code",
      "metadata": {
        "id": "oeYGdiPYz3AF",
        "colab_type": "code",
        "outputId": "a73a2840-f46f-4d96-e944-093882e65f37",
        "colab": {
          "base_uri": "https://localhost:8080/",
          "height": 35
        }
      },
      "source": [
        "image_size = 640\n",
        "batch_size = 1\n",
        "\n",
        "test_datagen = keras.preprocessing.image.ImageDataGenerator(\n",
        "                rescale=1./255)\n",
        "\n",
        "test_generator = test_datagen.flow_from_directory(\n",
        "                tst_dir,\n",
        "                target_size=(image_size, image_size),\n",
        "                batch_size= batch_size,\n",
        "                class_mode='binary')\n",
        "\n",
        "filenames = test_generator.filenames\n",
        "nb_samples = len(filenames)\n"
      ],
      "execution_count": 0,
      "outputs": [
        {
          "output_type": "stream",
          "text": [
            "Found 100 images belonging to 2 classes.\n"
          ],
          "name": "stdout"
        }
      ]
    },
    {
      "cell_type": "code",
      "metadata": {
        "id": "KRI3OeD5z4CS",
        "colab_type": "code",
        "colab": {}
      },
      "source": [
        "#keras accuracy\n",
        "#_, accuracy = loaded_model.evaluate_generator(generator=test_generator)\n",
        "#print('Accuracy on test set: {}%'.format(round(accuracy, 3)*100))"
      ],
      "execution_count": 0,
      "outputs": []
    },
    {
      "cell_type": "code",
      "metadata": {
        "id": "qKvj8IwFz5JV",
        "colab_type": "code",
        "colab": {}
      },
      "source": [
        "true_classes = test_generator.classes\n",
        "class_labels = list(test_generator.class_indices.keys())"
      ],
      "execution_count": 0,
      "outputs": []
    },
    {
      "cell_type": "code",
      "metadata": {
        "id": "HhzbLFTC6s9Y",
        "colab_type": "code",
        "colab": {}
      },
      "source": [
        "test_steps=test_generator.n // batch_size\n",
        "test_generator.reset()\n",
        "predict = loaded_model.predict_generator(test_generator, steps = test_steps)\n",
        "predicted_classes = np.where(predict>0.5, 1, 0) #so will come out as binary"
      ],
      "execution_count": 0,
      "outputs": []
    },
    {
      "cell_type": "code",
      "metadata": {
        "id": "Ezl2rBCTz6it",
        "colab_type": "code",
        "colab": {}
      },
      "source": [
        "import sklearn\n",
        "from sklearn.metrics import confusion_matrix\n",
        "import seaborn as sns"
      ],
      "execution_count": 0,
      "outputs": []
    },
    {
      "cell_type": "code",
      "metadata": {
        "id": "N97CBvESz7UQ",
        "colab_type": "code",
        "outputId": "8d9dc631-7224-4bfb-ec86-95b0eef5c99a",
        "colab": {
          "base_uri": "https://localhost:8080/",
          "height": 620
        }
      },
      "source": [
        "print('Confusion Matrix')\n",
        "cm = sklearn.metrics.confusion_matrix(true_classes, predicted_classes)\n",
        "print(cm)\n",
        "\n",
        "#plot\n",
        "fig = plt.figure()\n",
        "ax = fig.add_subplot(111)\n",
        "cax = ax.matshow(cm, cmap=plt.cm.Blues)\n",
        "plt.title('Confusion Matrix 2')\n",
        "fig.colorbar(cax)\n",
        "ax.set_xticklabels([''] + class_labels)\n",
        "ax.set_yticklabels([''] + class_labels)\n",
        "plt.xlabel('Predicted')\n",
        "plt.ylabel('True')\n",
        "plt.show()\n",
        "\n",
        "#using seaborn\n",
        "ax= plt.subplot()\n",
        "sns.heatmap(cm, annot=True, ax = ax, cmap=\"BuPu\", square=True);\n",
        "\n",
        "# labels, title and ticks\n",
        "ax.set_xlabel('Predicted Labels');\n",
        "ax.set_ylabel('True Labels'); \n",
        "ax.set_title('Confusion Matrix 2'); \n",
        "ax.xaxis.set_ticklabels(class_labels + class_labels); \n",
        "ax.yaxis.set_ticklabels(class_labels + class_labels);\n"
      ],
      "execution_count": 0,
      "outputs": [
        {
          "output_type": "stream",
          "text": [
            "Confusion Matrix\n",
            "[[23 27]\n",
            " [22 28]]\n"
          ],
          "name": "stdout"
        },
        {
          "output_type": "display_data",
          "data": {
            "image/png": "[encoded data removed]",
            "text/plain": [
              "<Figure size 432x288 with 2 Axes>"
            ]
          },
          "metadata": {
            "tags": []
          }
        },
        {
          "output_type": "display_data",
          "data": {
            "image/png": "[encoded data removed]",
            "text/plain": [
              "<Figure size 432x288 with 2 Axes>"
            ]
          },
          "metadata": {
            "tags": []
          }
        }
      ]
    },
    {
      "cell_type": "code",
      "metadata": {
        "id": "8-emBVfAz8vn",
        "colab_type": "code",
        "outputId": "31ea6fad-17f9-4141-95d8-2a00ee5c053f",
        "colab": {
          "base_uri": "https://localhost:8080/",
          "height": 195
        }
      },
      "source": [
        "print('Classification Report 2') \n",
        "print(sklearn.metrics.classification_report(true_classes, predicted_classes, target_names=class_labels))"
      ],
      "execution_count": 0,
      "outputs": [
        {
          "output_type": "stream",
          "text": [
            "Classification Report 2\n",
            "              precision    recall  f1-score   support\n",
            "\n",
            "     Dislike       0.51      0.46      0.48        50\n",
            "        Like       0.51      0.56      0.53        50\n",
            "\n",
            "    accuracy                           0.51       100\n",
            "   macro avg       0.51      0.51      0.51       100\n",
            "weighted avg       0.51      0.51      0.51       100\n",
            "\n"
          ],
          "name": "stdout"
        }
      ]
    },
    {
      "cell_type": "code",
      "metadata": {
        "id": "8Oi1Lsst4hvE",
        "colab_type": "code",
        "outputId": "54e1ecbe-078c-4002-8ab3-28fe13e757b5",
        "colab": {
          "base_uri": "https://localhost:8080/",
          "height": 1795
        }
      },
      "source": [
        "#make both true_classes and predicted_classes into lists\n",
        "t_classes = list(true_classes)\n",
        "\n",
        "p_classes = []\n",
        "for sublist in predicted_classes:\n",
        "    for item in sublist:\n",
        "        p_classes.append(item)\n",
        "        \n",
        "#to see which ones have been misclassified\n",
        "\n",
        "a = (t_classes, p_classes, filenames)\n",
        "b = np.column_stack(a)\n",
        "print(b)"
      ],
      "execution_count": 0,
      "outputs": [
        {
          "output_type": "stream",
          "text": [
            "[['0' '1' 'Dislike/Dislike_100.jpg']\n",
            " ['0' '1' 'Dislike/Dislike_51.jpg']\n",
            " ['0' '0' 'Dislike/Dislike_52.jpg']\n",
            " ['0' '1' 'Dislike/Dislike_53.jpg']\n",
            " ['0' '0' 'Dislike/Dislike_54.jpg']\n",
            " ['0' '1' 'Dislike/Dislike_55.jpg']\n",
            " ['0' '1' 'Dislike/Dislike_56.jpg']\n",
            " ['0' '0' 'Dislike/Dislike_57.jpg']\n",
            " ['0' '0' 'Dislike/Dislike_58.jpg']\n",
            " ['0' '0' 'Dislike/Dislike_59.jpg']\n",
            " ['0' '1' 'Dislike/Dislike_60.jpg']\n",
            " ['0' '0' 'Dislike/Dislike_61.jpg']\n",
            " ['0' '1' 'Dislike/Dislike_62.jpg']\n",
            " ['0' '1' 'Dislike/Dislike_63.jpg']\n",
            " ['0' '0' 'Dislike/Dislike_64.jpg']\n",
            " ['0' '1' 'Dislike/Dislike_65.jpg']\n",
            " ['0' '0' 'Dislike/Dislike_66.jpg']\n",
            " ['0' '0' 'Dislike/Dislike_67.jpg']\n",
            " ['0' '0' 'Dislike/Dislike_68.jpg']\n",
            " ['0' '0' 'Dislike/Dislike_69.jpg']\n",
            " ['0' '1' 'Dislike/Dislike_70.jpg']\n",
            " ['0' '1' 'Dislike/Dislike_71.jpg']\n",
            " ['0' '1' 'Dislike/Dislike_72.jpg']\n",
            " ['0' '0' 'Dislike/Dislike_73.jpg']\n",
            " ['0' '1' 'Dislike/Dislike_74.jpg']\n",
            " ['0' '1' 'Dislike/Dislike_75.jpg']\n",
            " ['0' '1' 'Dislike/Dislike_76.jpg']\n",
            " ['0' '1' 'Dislike/Dislike_77.jpg']\n",
            " ['0' '1' 'Dislike/Dislike_78.jpg']\n",
            " ['0' '1' 'Dislike/Dislike_79.jpg']\n",
            " ['0' '1' 'Dislike/Dislike_80.jpg']\n",
            " ['0' '0' 'Dislike/Dislike_81.jpg']\n",
            " ['0' '0' 'Dislike/Dislike_82.jpg']\n",
            " ['0' '0' 'Dislike/Dislike_83.jpg']\n",
            " ['0' '1' 'Dislike/Dislike_84.jpg']\n",
            " ['0' '0' 'Dislike/Dislike_85.jpg']\n",
            " ['0' '1' 'Dislike/Dislike_86.jpg']\n",
            " ['0' '1' 'Dislike/Dislike_87.jpg']\n",
            " ['0' '1' 'Dislike/Dislike_88.jpg']\n",
            " ['0' '1' 'Dislike/Dislike_89.jpg']\n",
            " ['0' '0' 'Dislike/Dislike_90.jpg']\n",
            " ['0' '0' 'Dislike/Dislike_91.jpg']\n",
            " ['0' '0' 'Dislike/Dislike_92.jpg']\n",
            " ['0' '0' 'Dislike/Dislike_93.jpg']\n",
            " ['0' '1' 'Dislike/Dislike_94.jpg']\n",
            " ['0' '0' 'Dislike/Dislike_95.jpg']\n",
            " ['0' '1' 'Dislike/Dislike_96.jpg']\n",
            " ['0' '0' 'Dislike/Dislike_97.jpg']\n",
            " ['0' '0' 'Dislike/Dislike_98.jpg']\n",
            " ['0' '1' 'Dislike/Dislike_99.jpg']\n",
            " ['1' '1' 'Like/Like_100.jpg']\n",
            " ['1' '1' 'Like/Like_51.jpg']\n",
            " ['1' '1' 'Like/Like_52.jpg']\n",
            " ['1' '1' 'Like/Like_53.jpg']\n",
            " ['1' '0' 'Like/Like_54.jpg']\n",
            " ['1' '1' 'Like/Like_55.jpg']\n",
            " ['1' '1' 'Like/Like_56.jpg']\n",
            " ['1' '1' 'Like/Like_57.jpg']\n",
            " ['1' '0' 'Like/Like_58.jpg']\n",
            " ['1' '1' 'Like/Like_59.jpg']\n",
            " ['1' '0' 'Like/Like_60.jpg']\n",
            " ['1' '1' 'Like/Like_61.jpg']\n",
            " ['1' '0' 'Like/Like_62.jpg']\n",
            " ['1' '0' 'Like/Like_63.jpg']\n",
            " ['1' '1' 'Like/Like_64.jpg']\n",
            " ['1' '0' 'Like/Like_65.jpg']\n",
            " ['1' '0' 'Like/Like_66.jpg']\n",
            " ['1' '0' 'Like/Like_67.jpg']\n",
            " ['1' '0' 'Like/Like_68.jpg']\n",
            " ['1' '1' 'Like/Like_69.jpg']\n",
            " ['1' '0' 'Like/Like_70.jpg']\n",
            " ['1' '1' 'Like/Like_71.jpg']\n",
            " ['1' '1' 'Like/Like_72.jpg']\n",
            " ['1' '0' 'Like/Like_73.jpg']\n",
            " ['1' '0' 'Like/Like_74.jpg']\n",
            " ['1' '0' 'Like/Like_75.jpg']\n",
            " ['1' '1' 'Like/Like_76.jpg']\n",
            " ['1' '1' 'Like/Like_77.jpg']\n",
            " ['1' '1' 'Like/Like_78.jpg']\n",
            " ['1' '0' 'Like/Like_79.jpg']\n",
            " ['1' '0' 'Like/Like_80.jpg']\n",
            " ['1' '1' 'Like/Like_81.jpg']\n",
            " ['1' '1' 'Like/Like_82.jpg']\n",
            " ['1' '0' 'Like/Like_83.jpg']\n",
            " ['1' '1' 'Like/Like_84.jpg']\n",
            " ['1' '1' 'Like/Like_85.jpg']\n",
            " ['1' '0' 'Like/Like_86.jpg']\n",
            " ['1' '0' 'Like/Like_87.jpg']\n",
            " ['1' '1' 'Like/Like_88.jpg']\n",
            " ['1' '0' 'Like/Like_89.jpg']\n",
            " ['1' '1' 'Like/Like_90.jpg']\n",
            " ['1' '1' 'Like/Like_91.jpg']\n",
            " ['1' '1' 'Like/Like_92.jpg']\n",
            " ['1' '0' 'Like/Like_93.jpg']\n",
            " ['1' '0' 'Like/Like_94.jpg']\n",
            " ['1' '1' 'Like/Like_95.jpg']\n",
            " ['1' '0' 'Like/Like_96.jpg']\n",
            " ['1' '1' 'Like/Like_97.jpg']\n",
            " ['1' '1' 'Like/Like_98.jpg']\n",
            " ['1' '1' 'Like/Like_99.jpg']]\n"
          ],
          "name": "stdout"
        }
      ]
    }
  ]
}