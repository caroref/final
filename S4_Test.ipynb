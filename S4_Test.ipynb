{
  "nbformat": 4,
  "nbformat_minor": 0,
  "metadata": {
    "colab": {
      "name": "S4 Test.ipynb",
      "version": "0.3.2",
      "provenance": [],
      "collapsed_sections": [],
      "include_colab_link": true
    },
    "kernelspec": {
      "name": "python3",
      "display_name": "Python 3"
    },
    "accelerator": "GPU"
  },
  "cells": [
    {
      "cell_type": "markdown",
      "metadata": {
        "id": "view-in-github",
        "colab_type": "text"
      },
      "source": [
        "<a href=\"https://colab.research.google.com/github/caroref/final/blob/master/S4_Test.ipynb\" target=\"_parent\"><img src=\"https://colab.research.google.com/assets/colab-badge.svg\" alt=\"Open In Colab\"/></a>"
      ]
    },
    {
      "cell_type": "code",
      "metadata": {
        "id": "A2YouEqhz_JR",
        "colab_type": "code",
        "colab": {
          "base_uri": "https://localhost:8080/",
          "height": 90
        },
        "outputId": "d87cf5c4-6387-416a-d0d1-0b6e967bb80a"
      },
      "source": [
        "from __future__ import absolute_import, division, print_function, unicode_literals\n",
        "\n",
        "import os\n",
        "import random\n",
        "import shutil\n",
        "\n",
        "import tensorflow as tf\n",
        "import tensorflow_hub as hub\n",
        "print(\"TensorFlow version is \", tf.__version__)\n",
        "\n",
        "from tensorflow import keras\n",
        "from tensorflow.keras import layers\n",
        "\n",
        "import numpy as np\n",
        "\n",
        "import matplotlib.pyplot as plt\n",
        "import matplotlib.image as mpimg"
      ],
      "execution_count": 1,
      "outputs": [
        {
          "output_type": "stream",
          "text": [
            "WARNING: Logging before flag parsing goes to stderr.\n",
            "W0604 19:16:57.456410 140421399381888 __init__.py:56] Some hub symbols are not available because TensorFlow version is less than 1.14\n"
          ],
          "name": "stderr"
        },
        {
          "output_type": "stream",
          "text": [
            "TensorFlow version is  1.13.1\n"
          ],
          "name": "stdout"
        }
      ]
    },
    {
      "cell_type": "code",
      "metadata": {
        "id": "KfSIWF1q0Csv",
        "colab_type": "code",
        "colab": {
          "base_uri": "https://localhost:8080/",
          "height": 268
        },
        "outputId": "f5fbef24-0908-499f-d98e-b8bb74585f60"
      },
      "source": [
        "# Allow Colab to access drive\n",
        "!apt-get install -y -qq software-properties-common python-software-properties module-init-tools\n",
        "!add-apt-repository -y ppa:alessandro-strada/ppa 2>&1 > /dev/null\n",
        "!apt-get update -qq 2>&1 > /dev/null\n",
        "!apt-get -y install -qq google-drive-ocamlfuse fuse\n",
        "from google.colab import auth\n",
        "auth.authenticate_user()\n",
        "from oauth2client.client import GoogleCredentials\n",
        "creds = GoogleCredentials.get_application_default()\n",
        "import getpass\n",
        "!google-drive-ocamlfuse -headless -id={creds.client_id} -secret={creds.client_secret} < /dev/null 2>&1 | grep URL\n",
        "vcode = getpass.getpass()\n",
        "!echo {vcode} | google-drive-ocamlfuse -headless -id={creds.client_id} -secret={creds.client_secret}\n",
        "\n",
        "#linking Colab to use drive as if local\n",
        "!mkdir -p drive\n",
        "!google-drive-ocamlfuse drive\n"
      ],
      "execution_count": 2,
      "outputs": [
        {
          "output_type": "stream",
          "text": [
            "E: Package 'python-software-properties' has no installation candidate\n",
            "E: The repository 'https://cloud.r-project.org/bin/linux/ubuntu bionic-cran35/ Release' is no longer signed.\n",
            "E: The repository 'https://cloud.r-project.org/bin/linux/ubuntu bionic-cran35/ Release' is no longer signed.\n",
            "Selecting previously unselected package google-drive-ocamlfuse.\n",
            "(Reading database ... 130912 files and directories currently installed.)\n",
            "Preparing to unpack .../google-drive-ocamlfuse_0.7.3-0ubuntu3~ubuntu18.04.1_amd64.deb ...\n",
            "Unpacking google-drive-ocamlfuse (0.7.3-0ubuntu3~ubuntu18.04.1) ...\n",
            "Setting up google-drive-ocamlfuse (0.7.3-0ubuntu3~ubuntu18.04.1) ...\n",
            "Processing triggers for man-db (2.8.3-2ubuntu0.1) ...\n",
            "Please, open the following URL in a web browser: https://accounts.google.com/o/oauth2/auth?client_id=32555940559.apps.googleusercontent.com&redirect_uri=urn%3Aietf%3Awg%3Aoauth%3A2.0%3Aoob&scope=https%3A%2F%2Fwww.googleapis.com%2Fauth%2Fdrive&response_type=code&access_type=offline&approval_prompt=force\n",
            "··········\n",
            "Please, open the following URL in a web browser: https://accounts.google.com/o/oauth2/auth?client_id=32555940559.apps.googleusercontent.com&redirect_uri=urn%3Aietf%3Awg%3Aoauth%3A2.0%3Aoob&scope=https%3A%2F%2Fwww.googleapis.com%2Fauth%2Fdrive&response_type=code&access_type=offline&approval_prompt=force\n",
            "Please enter the verification code: Access token retrieved correctly.\n"
          ],
          "name": "stdout"
        }
      ]
    },
    {
      "cell_type": "code",
      "metadata": {
        "id": "0MY-mhUE1VbV",
        "colab_type": "code",
        "colab": {}
      },
      "source": [
        "base_dir = 'drive/Colab/EV/Base/'\n",
        "like = os.path.join(base_dir, 'Like')\n",
        "dislike = os.path.join(base_dir, 'Dislike')\n",
        "\n",
        "trn_dir = 'drive/Colab/EV/S4/Train/'\n",
        "tst_dir = 'drive/Colab/EV/S4/Test/'\n",
        "\n",
        "trn_like = os.path.join(trn_dir, 'Like')\n",
        "tst_like = os.path.join(tst_dir, 'Like')\n",
        "\n",
        "trn_disl = os.path.join(trn_dir, 'Dislike')\n",
        "tst_disl = os.path.join(tst_dir, 'Dislike')"
      ],
      "execution_count": 0,
      "outputs": []
    },
    {
      "cell_type": "code",
      "metadata": {
        "id": "HMY205oWzug7",
        "colab_type": "code",
        "colab": {}
      },
      "source": [
        "# keras library import  for Saving and loading model and weights\n",
        "from tensorflow.keras.models import model_from_json\n",
        "from tensorflow.keras.models import load_model"
      ],
      "execution_count": 0,
      "outputs": []
    },
    {
      "cell_type": "code",
      "metadata": {
        "id": "pVGVQqgmzxla",
        "colab_type": "code",
        "colab": {
          "base_uri": "https://localhost:8080/",
          "height": 304
        },
        "outputId": "141b4869-0831-466f-8edc-0c40fc42ac92"
      },
      "source": [
        "# load json and create model\n",
        "json_file = open('drive/Colab Notebooks/smodel/s4_model_num.json', 'r')\n",
        "\n",
        "loaded_model_json = json_file.read()\n",
        "json_file.close()\n",
        "loaded_model = model_from_json(loaded_model_json)\n",
        "\n",
        "# load weights into new model\n",
        "loaded_model.load_weights(\"drive/Colab Notebooks/smodel/s4_model_num.h5\")\n",
        "print(\"Loaded model from drive\")\n",
        "\n",
        "loaded_model=load_model('drive/Colab Notebooks/smodel/s4_model_num.hdf5')\n"
      ],
      "execution_count": 5,
      "outputs": [
        {
          "output_type": "stream",
          "text": [
            "WARNING:tensorflow:From /usr/local/lib/python3.6/dist-packages/tensorflow/python/ops/resource_variable_ops.py:435: colocate_with (from tensorflow.python.framework.ops) is deprecated and will be removed in a future version.\n",
            "Instructions for updating:\n",
            "Colocations handled automatically by placer.\n"
          ],
          "name": "stdout"
        },
        {
          "output_type": "stream",
          "text": [
            "W0604 19:17:53.384369 140421399381888 deprecation.py:323] From /usr/local/lib/python3.6/dist-packages/tensorflow/python/ops/resource_variable_ops.py:435: colocate_with (from tensorflow.python.framework.ops) is deprecated and will be removed in a future version.\n",
            "Instructions for updating:\n",
            "Colocations handled automatically by placer.\n"
          ],
          "name": "stderr"
        },
        {
          "output_type": "stream",
          "text": [
            "Loaded model from drive\n",
            "WARNING:tensorflow:From /usr/local/lib/python3.6/dist-packages/tensorflow/python/ops/math_ops.py:3066: to_int32 (from tensorflow.python.ops.math_ops) is deprecated and will be removed in a future version.\n",
            "Instructions for updating:\n",
            "Use tf.cast instead.\n"
          ],
          "name": "stdout"
        },
        {
          "output_type": "stream",
          "text": [
            "W0604 19:18:39.047064 140421399381888 deprecation.py:323] From /usr/local/lib/python3.6/dist-packages/tensorflow/python/ops/math_ops.py:3066: to_int32 (from tensorflow.python.ops.math_ops) is deprecated and will be removed in a future version.\n",
            "Instructions for updating:\n",
            "Use tf.cast instead.\n"
          ],
          "name": "stderr"
        },
        {
          "output_type": "stream",
          "text": [
            "WARNING:tensorflow:Error in loading the saved optimizer state. As a result, your model is starting with a freshly initialized optimizer.\n"
          ],
          "name": "stdout"
        },
        {
          "output_type": "stream",
          "text": [
            "W0604 19:18:46.276899 140421399381888 saving.py:287] Error in loading the saved optimizer state. As a result, your model is starting with a freshly initialized optimizer.\n"
          ],
          "name": "stderr"
        }
      ]
    },
    {
      "cell_type": "code",
      "metadata": {
        "id": "SMbY2IHWz2BO",
        "colab_type": "code",
        "colab": {
          "base_uri": "https://localhost:8080/",
          "height": 248
        },
        "outputId": "6cd43502-8274-4c98-ef8a-cc20b022a27d"
      },
      "source": [
        "#compile\n",
        "loaded_model.compile(optimizer=tf.keras.optimizers.RMSprop(lr=0.0001),\n",
        "              loss='binary_crossentropy',\n",
        "              metrics=['accuracy'])\n",
        "\n",
        "loaded_model.summary()"
      ],
      "execution_count": 6,
      "outputs": [
        {
          "output_type": "stream",
          "text": [
            "_________________________________________________________________\n",
            "Layer (type)                 Output Shape              Param #   \n",
            "=================================================================\n",
            "inception_v3 (Model)         (None, 18, 18, 2048)      21802784  \n",
            "_________________________________________________________________\n",
            "global_average_pooling2d (Gl (None, 2048)              0         \n",
            "_________________________________________________________________\n",
            "dense (Dense)                (None, 1)                 2049      \n",
            "=================================================================\n",
            "Total params: 21,804,833\n",
            "Trainable params: 21,770,401\n",
            "Non-trainable params: 34,432\n",
            "_________________________________________________________________\n"
          ],
          "name": "stdout"
        }
      ]
    },
    {
      "cell_type": "code",
      "metadata": {
        "id": "oeYGdiPYz3AF",
        "colab_type": "code",
        "colab": {
          "base_uri": "https://localhost:8080/",
          "height": 35
        },
        "outputId": "86bf1445-a00d-4db0-f40b-5942a775dc6a"
      },
      "source": [
        "image_size = 640\n",
        "batch_size = 1\n",
        "\n",
        "test_datagen = keras.preprocessing.image.ImageDataGenerator(\n",
        "                rescale=1./255)\n",
        "\n",
        "test_generator = test_datagen.flow_from_directory(\n",
        "                tst_dir,\n",
        "                target_size=(image_size, image_size),\n",
        "                batch_size= batch_size,\n",
        "                class_mode='binary')\n",
        "\n",
        "filenames = test_generator.filenames\n",
        "nb_samples = len(filenames)\n"
      ],
      "execution_count": 7,
      "outputs": [
        {
          "output_type": "stream",
          "text": [
            "Found 100 images belonging to 2 classes.\n"
          ],
          "name": "stdout"
        }
      ]
    },
    {
      "cell_type": "code",
      "metadata": {
        "id": "KRI3OeD5z4CS",
        "colab_type": "code",
        "colab": {}
      },
      "source": [
        "#keras accuracy\n",
        "#_, accuracy = loaded_model.evaluate_generator(generator=test_generator)\n",
        "#print('Accuracy on test set: {}%'.format(round(accuracy, 3)*100))"
      ],
      "execution_count": 0,
      "outputs": []
    },
    {
      "cell_type": "code",
      "metadata": {
        "id": "qKvj8IwFz5JV",
        "colab_type": "code",
        "colab": {}
      },
      "source": [
        "true_classes = test_generator.classes\n",
        "class_labels = list(test_generator.class_indices.keys())"
      ],
      "execution_count": 0,
      "outputs": []
    },
    {
      "cell_type": "code",
      "metadata": {
        "id": "HhzbLFTC6s9Y",
        "colab_type": "code",
        "colab": {}
      },
      "source": [
        "test_steps=test_generator.n // batch_size\n",
        "test_generator.reset()\n",
        "predict = loaded_model.predict_generator(test_generator, steps = test_steps)\n",
        "predicted_classes = np.where(predict>0.5, 1, 0) #so will come out as binary"
      ],
      "execution_count": 0,
      "outputs": []
    },
    {
      "cell_type": "code",
      "metadata": {
        "id": "Ezl2rBCTz6it",
        "colab_type": "code",
        "colab": {}
      },
      "source": [
        "import sklearn\n",
        "from sklearn.metrics import confusion_matrix\n",
        "import seaborn as sns"
      ],
      "execution_count": 0,
      "outputs": []
    },
    {
      "cell_type": "code",
      "metadata": {
        "id": "N97CBvESz7UQ",
        "colab_type": "code",
        "colab": {
          "base_uri": "https://localhost:8080/",
          "height": 620
        },
        "outputId": "4d198f92-40cc-46c3-8eb1-95880b7e254f"
      },
      "source": [
        "print('Confusion Matrix')\n",
        "cm = sklearn.metrics.confusion_matrix(true_classes, predicted_classes)\n",
        "print(cm)\n",
        "\n",
        "#plot\n",
        "fig = plt.figure()\n",
        "ax = fig.add_subplot(111)\n",
        "cax = ax.matshow(cm, cmap=plt.cm.Blues)\n",
        "plt.title('Confusion Matrix 4')\n",
        "fig.colorbar(cax)\n",
        "ax.set_xticklabels([''] + class_labels)\n",
        "ax.set_yticklabels([''] + class_labels)\n",
        "plt.xlabel('Predicted')\n",
        "plt.ylabel('True')\n",
        "plt.show()\n",
        "\n",
        "#using seaborn\n",
        "ax= plt.subplot()\n",
        "sns.heatmap(cm, annot=True, ax = ax, cmap=\"BuPu\", square=True);\n",
        "\n",
        "# labels, title and ticks\n",
        "ax.set_xlabel('Predicted Labels');\n",
        "ax.set_ylabel('True Labels'); \n",
        "ax.set_title('Confusion Matrix 4'); \n",
        "ax.xaxis.set_ticklabels(class_labels + class_labels); \n",
        "ax.yaxis.set_ticklabels(class_labels + class_labels);\n"
      ],
      "execution_count": 12,
      "outputs": [
        {
          "output_type": "stream",
          "text": [
            "Confusion Matrix\n",
            "[[32 18]\n",
            " [25 25]]\n"
          ],
          "name": "stdout"
        },
        {
          "output_type": "display_data",
          "data": {
            "image/png": "[encoded data removed]",
            "text/plain": [
              "<Figure size 432x288 with 2 Axes>"
            ]
          },
          "metadata": {
            "tags": []
          }
        },
        {
          "output_type": "display_data",
          "data": {
            "image/png": "[encoded data removed]",
            "text/plain": [
              "<Figure size 432x288 with 2 Axes>"
            ]
          },
          "metadata": {
            "tags": []
          }
        }
      ]
    },
    {
      "cell_type": "code",
      "metadata": {
        "id": "8-emBVfAz8vn",
        "colab_type": "code",
        "colab": {
          "base_uri": "https://localhost:8080/",
          "height": 195
        },
        "outputId": "fc44aa85-9f2d-4b2c-e08c-6b4595b6f6d9"
      },
      "source": [
        "print('Classification Report 4') \n",
        "print(sklearn.metrics.classification_report(true_classes, predicted_classes, target_names=class_labels))"
      ],
      "execution_count": 13,
      "outputs": [
        {
          "output_type": "stream",
          "text": [
            "Classification Report 4\n",
            "              precision    recall  f1-score   support\n",
            "\n",
            "     Dislike       0.56      0.64      0.60        50\n",
            "        Like       0.58      0.50      0.54        50\n",
            "\n",
            "    accuracy                           0.57       100\n",
            "   macro avg       0.57      0.57      0.57       100\n",
            "weighted avg       0.57      0.57      0.57       100\n",
            "\n"
          ],
          "name": "stdout"
        }
      ]
    },
    {
      "cell_type": "code",
      "metadata": {
        "id": "8Oi1Lsst4hvE",
        "colab_type": "code",
        "colab": {
          "base_uri": "https://localhost:8080/",
          "height": 1795
        },
        "outputId": "2fd41f50-b956-414e-bd02-98328d2f781d"
      },
      "source": [
        "#make both true_classes and predicted_classes into lists\n",
        "t_classes = list(true_classes)\n",
        "\n",
        "p_classes = []\n",
        "for sublist in predicted_classes:\n",
        "    for item in sublist:\n",
        "        p_classes.append(item)\n",
        "        \n",
        "#to see which ones have been misclassified\n",
        "\n",
        "a = (t_classes, p_classes, filenames)\n",
        "b = np.column_stack(a)\n",
        "print(b)\n"
      ],
      "execution_count": 14,
      "outputs": [
        {
          "output_type": "stream",
          "text": [
            "[['0' '0' 'Dislike/Dislike_151.jpg']\n",
            " ['0' '0' 'Dislike/Dislike_152.jpg']\n",
            " ['0' '1' 'Dislike/Dislike_153.jpg']\n",
            " ['0' '1' 'Dislike/Dislike_154.jpg']\n",
            " ['0' '0' 'Dislike/Dislike_155.jpg']\n",
            " ['0' '1' 'Dislike/Dislike_156.jpg']\n",
            " ['0' '0' 'Dislike/Dislike_157.jpg']\n",
            " ['0' '0' 'Dislike/Dislike_158.jpg']\n",
            " ['0' '0' 'Dislike/Dislike_159.jpg']\n",
            " ['0' '0' 'Dislike/Dislike_160.jpg']\n",
            " ['0' '1' 'Dislike/Dislike_161.jpg']\n",
            " ['0' '0' 'Dislike/Dislike_162.jpg']\n",
            " ['0' '1' 'Dislike/Dislike_163.jpg']\n",
            " ['0' '1' 'Dislike/Dislike_164.jpg']\n",
            " ['0' '1' 'Dislike/Dislike_165.jpg']\n",
            " ['0' '0' 'Dislike/Dislike_166.jpg']\n",
            " ['0' '1' 'Dislike/Dislike_167.jpg']\n",
            " ['0' '1' 'Dislike/Dislike_168.jpg']\n",
            " ['0' '0' 'Dislike/Dislike_169.jpg']\n",
            " ['0' '0' 'Dislike/Dislike_170.jpg']\n",
            " ['0' '0' 'Dislike/Dislike_171.jpg']\n",
            " ['0' '1' 'Dislike/Dislike_172.jpg']\n",
            " ['0' '1' 'Dislike/Dislike_173.jpg']\n",
            " ['0' '0' 'Dislike/Dislike_174.jpg']\n",
            " ['0' '0' 'Dislike/Dislike_175.jpg']\n",
            " ['0' '0' 'Dislike/Dislike_176.jpg']\n",
            " ['0' '1' 'Dislike/Dislike_177.jpg']\n",
            " ['0' '0' 'Dislike/Dislike_178.jpg']\n",
            " ['0' '0' 'Dislike/Dislike_179.jpg']\n",
            " ['0' '1' 'Dislike/Dislike_180.jpg']\n",
            " ['0' '0' 'Dislike/Dislike_181.jpg']\n",
            " ['0' '0' 'Dislike/Dislike_182.jpg']\n",
            " ['0' '0' 'Dislike/Dislike_183.jpg']\n",
            " ['0' '1' 'Dislike/Dislike_184.jpg']\n",
            " ['0' '0' 'Dislike/Dislike_185.jpg']\n",
            " ['0' '0' 'Dislike/Dislike_186.jpg']\n",
            " ['0' '0' 'Dislike/Dislike_187.jpg']\n",
            " ['0' '0' 'Dislike/Dislike_188.jpg']\n",
            " ['0' '0' 'Dislike/Dislike_189.jpg']\n",
            " ['0' '1' 'Dislike/Dislike_190.jpg']\n",
            " ['0' '0' 'Dislike/Dislike_191.jpg']\n",
            " ['0' '0' 'Dislike/Dislike_192.jpg']\n",
            " ['0' '0' 'Dislike/Dislike_193.jpg']\n",
            " ['0' '0' 'Dislike/Dislike_194.jpg']\n",
            " ['0' '1' 'Dislike/Dislike_195.jpg']\n",
            " ['0' '0' 'Dislike/Dislike_196.jpg']\n",
            " ['0' '1' 'Dislike/Dislike_197.jpg']\n",
            " ['0' '1' 'Dislike/Dislike_198.jpg']\n",
            " ['0' '0' 'Dislike/Dislike_199.jpg']\n",
            " ['0' '0' 'Dislike/Dislike_200.jpg']\n",
            " ['1' '0' 'Like/Like_151.jpg']\n",
            " ['1' '1' 'Like/Like_152.jpg']\n",
            " ['1' '1' 'Like/Like_153.jpg']\n",
            " ['1' '0' 'Like/Like_154.jpg']\n",
            " ['1' '0' 'Like/Like_155.jpg']\n",
            " ['1' '0' 'Like/Like_156.jpg']\n",
            " ['1' '1' 'Like/Like_157.jpg']\n",
            " ['1' '0' 'Like/Like_158.jpg']\n",
            " ['1' '1' 'Like/Like_159.jpg']\n",
            " ['1' '0' 'Like/Like_160.jpg']\n",
            " ['1' '1' 'Like/Like_161.jpg']\n",
            " ['1' '1' 'Like/Like_162.jpg']\n",
            " ['1' '0' 'Like/Like_163.jpg']\n",
            " ['1' '0' 'Like/Like_164.jpg']\n",
            " ['1' '1' 'Like/Like_165.jpg']\n",
            " ['1' '1' 'Like/Like_166.jpg']\n",
            " ['1' '0' 'Like/Like_167.jpg']\n",
            " ['1' '0' 'Like/Like_168.jpg']\n",
            " ['1' '1' 'Like/Like_169.jpg']\n",
            " ['1' '0' 'Like/Like_170.jpg']\n",
            " ['1' '1' 'Like/Like_171.jpg']\n",
            " ['1' '0' 'Like/Like_172.jpg']\n",
            " ['1' '0' 'Like/Like_173.jpg']\n",
            " ['1' '1' 'Like/Like_174.jpg']\n",
            " ['1' '1' 'Like/Like_175.jpg']\n",
            " ['1' '1' 'Like/Like_176.jpg']\n",
            " ['1' '0' 'Like/Like_177.jpg']\n",
            " ['1' '0' 'Like/Like_178.jpg']\n",
            " ['1' '1' 'Like/Like_179.jpg']\n",
            " ['1' '0' 'Like/Like_180.jpg']\n",
            " ['1' '0' 'Like/Like_181.jpg']\n",
            " ['1' '0' 'Like/Like_182.jpg']\n",
            " ['1' '0' 'Like/Like_183.jpg']\n",
            " ['1' '0' 'Like/Like_184.jpg']\n",
            " ['1' '1' 'Like/Like_185.jpg']\n",
            " ['1' '1' 'Like/Like_186.jpg']\n",
            " ['1' '0' 'Like/Like_187.jpg']\n",
            " ['1' '0' 'Like/Like_188.jpg']\n",
            " ['1' '1' 'Like/Like_189.jpg']\n",
            " ['1' '1' 'Like/Like_190.jpg']\n",
            " ['1' '1' 'Like/Like_191.jpg']\n",
            " ['1' '1' 'Like/Like_192.jpg']\n",
            " ['1' '0' 'Like/Like_193.jpg']\n",
            " ['1' '1' 'Like/Like_194.jpg']\n",
            " ['1' '1' 'Like/Like_195.jpg']\n",
            " ['1' '1' 'Like/Like_196.jpg']\n",
            " ['1' '0' 'Like/Like_197.jpg']\n",
            " ['1' '1' 'Like/Like_198.jpg']\n",
            " ['1' '0' 'Like/Like_199.jpg']\n",
            " ['1' '1' 'Like/Like_200.jpg']]\n"
          ],
          "name": "stdout"
        }
      ]
    }
  ]
}